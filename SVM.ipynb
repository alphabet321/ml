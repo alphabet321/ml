{
  "nbformat": 4,
  "nbformat_minor": 0,
  "metadata": {
    "colab": {
      "provenance": []
    },
    "kernelspec": {
      "name": "python3",
      "display_name": "Python 3"
    },
    "language_info": {
      "name": "python"
    }
  },
  "cells": [
    {
      "cell_type": "code",
      "source": [
        "from sklearn.datasets import load_digits\n",
        "from sklearn.model_selection import train_test_split\n",
        "from sklearn.svm import SVC\n",
        "from sklearn.neural_network import MLPClassifier\n",
        "\n",
        "# Load the MNIST dataset\n",
        "digits = load_digits()\n",
        "\n",
        "# Split the dataset into training and testing sets\n",
        "X_train, X_test, y_train, y_test = train_test_split(digits.data, digits.target, test_size=0.2, random_state=42)\n",
        "\n",
        "# Train SVM with different kernels\n",
        "svc_linear = SVC(kernel='linear')\n",
        "svc_linear.fit(X_train, y_train)\n",
        "print(\"Accuracy of linear kernel:\", svc_linear.score(X_test, y_test))\n",
        "\n",
        "svc_rbf = SVC(kernel='rbf')\n",
        "svc_rbf.fit(X_train, y_train)\n",
        "print(\"Accuracy of RBF kernel:\", svc_rbf.score(X_test, y_test))\n",
        "\n",
        "# Train MLP neural network\n",
        "mlp = MLPClassifier(hidden_layer_sizes=(100,), max_iter=10, alpha=1e-4, \n",
        "                    solver='sgd', verbose=10, random_state=1,\n",
        "                    learning_rate_init=.1)\n",
        "\n",
        "mlp.fit(X_train, y_train)\n",
        "\n",
        "print(\"Accuracy of MLP neural network:\", mlp.score(X_test, y_test))\n"
      ],
      "metadata": {
        "colab": {
          "base_uri": "https://localhost:8080/"
        },
        "id": "XvNCWeVSKVHY",
        "outputId": "0509baba-262a-47d3-82f7-ecc21ec001b1"
      },
      "execution_count": null,
      "outputs": [
        {
          "output_type": "stream",
          "name": "stdout",
          "text": [
            "Accuracy of linear kernel: 0.9777777777777777\n",
            "Accuracy of RBF kernel: 0.9861111111111112\n",
            "Iteration 1, loss = 14.03258209\n",
            "Iteration 2, loss = 1.91880756\n",
            "Iteration 3, loss = 1.80726334\n",
            "Iteration 4, loss = 1.80226496\n",
            "Iteration 5, loss = 1.72079454\n",
            "Iteration 6, loss = 1.69701814\n",
            "Iteration 7, loss = 1.65883039\n",
            "Iteration 8, loss = 1.62418328\n",
            "Iteration 9, loss = 1.63044734\n",
            "Iteration 10, loss = 1.60729830\n",
            "Accuracy of MLP neural network: 0.33611111111111114\n"
          ]
        },
        {
          "output_type": "stream",
          "name": "stderr",
          "text": [
            "/usr/local/lib/python3.9/dist-packages/sklearn/neural_network/_multilayer_perceptron.py:686: ConvergenceWarning: Stochastic Optimizer: Maximum iterations (10) reached and the optimization hasn't converged yet.\n",
            "  warnings.warn(\n"
          ]
        }
      ]
    }
  ]
}