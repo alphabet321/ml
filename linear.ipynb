{
  "cells": [
    {
      "cell_type": "markdown",
      "metadata": {
        "id": "ow6vksi8cp4R"
      },
      "source": [
        "Straight line fitting"
      ]
    },
    {
      "cell_type": "code",
      "execution_count": 1,
      "metadata": {
        "id": "etxFKwNpcpM5"
      },
      "outputs": [],
      "source": [
        "import numpy as np\n",
        "import pandas as pd\n",
        "import matplotlib.pyplot as plt"
      ]
    },
    {
      "cell_type": "code",
      "execution_count": 2,
      "metadata": {
        "colab": {
          "base_uri": "https://localhost:8080/",
          "height": 363
        },
        "id": "EtyqjCgjc0Om",
        "outputId": "37742384-c077-4808-d667-f8eafcb324cf"
      },
      "outputs": [
        {
          "name": "stdout",
          "output_type": "stream",
          "text": [
            "(84, 2)\n",
            "    SAT   GPA\n",
            "0  1714  2.40\n",
            "1  1664  2.52\n",
            "2  1760  2.54\n",
            "3  1685  2.74\n",
            "4  1693  2.83\n"
          ]
        }
      ],
      "source": [
        "# Reading Data\n",
        "data = pd.read_csv('linear-reg.csv')\n",
        "print(data.shape) # print number of rows and column\n",
        "print(data.head()) # to print remaining data"
      ]
    },
    {
      "cell_type": "code",
      "execution_count": 3,
      "metadata": {
        "colab": {
          "base_uri": "https://localhost:8080/",
          "height": 235
        },
        "id": "HcbKGpzTf8Uu",
        "outputId": "418baf96-ce8a-4942-b553-bb9b800b0395"
      },
      "outputs": [
        {
          "name": "stdout",
          "output_type": "stream",
          "text": [
            "     SAT   GPA\n",
            "0   1714  2.40\n",
            "1   1664  2.52\n",
            "2   1760  2.54\n",
            "3   1685  2.74\n",
            "4   1693  2.83\n",
            "..   ...   ...\n",
            "79  1936  3.71\n",
            "80  1810  3.71\n",
            "81  1987  3.73\n",
            "82  1962  3.76\n",
            "83  2050  3.81\n",
            "\n",
            "[84 rows x 2 columns]\n"
          ]
        }
      ],
      "source": [
        "#Computing data\n",
        "X = data['SAT'].values[:43] # training set 43 not included\n",
        "Y = data['GPA'].values[:43]\n",
        "X_test = data['SAT'].values[43:] # test set\n",
        "Y_test = data['GPA'].values[43:]\n",
        "mean_x = np.mean(X)  \n",
        "mean_y = np.mean(Y)\n",
        "\n",
        "n = len(X)\n",
        "print(data)"
      ]
    },
    {
      "cell_type": "markdown",
      "metadata": {
        "id": "zhliHuKRjfxl"
      },
      "source": [
        "https://math.stackexchange.com/questions/3500898/understanding-the-least-squares-regression-formula "
      ]
    },
    {
      "cell_type": "markdown",
      "metadata": {
        "id": "D0HRwAVSgsv-"
      },
      "source": [
        "![image.png](data:image/png;base64,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)"
      ]
    },
    {
      "cell_type": "code",
      "execution_count": 4,
      "metadata": {
        "colab": {
          "base_uri": "https://localhost:8080/"
        },
        "id": "u7xBCZGwgW2V",
        "outputId": "59861ae6-a577-473e-b7ef-75c1dc89f37b"
      },
      "outputs": [
        {
          "name": "stdout",
          "output_type": "stream",
          "text": [
            "m =  0.0014493356050910673\n",
            "c =  0.5357193021454916\n"
          ]
        }
      ],
      "source": [
        "#finding m and c\n",
        "numer = 0\n",
        "denom = 0\n",
        "for i in range(n):\n",
        "  numer += (X[i] - mean_x) * (Y[i] - mean_y)\n",
        "  denom += (X[i] - mean_x) ** 2\n",
        "m = numer/denom\n",
        "c = mean_y - (m*mean_x)\n",
        "\n",
        "print(\"m = \", m)\n",
        "print(\"c = \", c)"
      ]
    },
    {
      "cell_type": "code",
      "execution_count": 11,
      "metadata": {
        "colab": {
          "base_uri": "https://localhost:8080/",
          "height": 279
        },
        "id": "h6MmTU9WhhnD",
        "outputId": "7148ca7c-ea48-416f-967f-d691f8a6b1e4"
      },
      "outputs": [
        {
          "name": "stdout",
          "output_type": "stream",
          "text": [
            "2120 1563\n"
          ]
        },
        {
          "data": {
            "image/png": "[encoded data removed]",
            "text/plain": [
              "<Figure size 432x288 with 1 Axes>"
            ]
          },
          "metadata": {
            "needs_background": "light"
          },
          "output_type": "display_data"
        }
      ],
      "source": [
        "# Plotting Values and Regression Line\n",
        " \n",
        "max_x = np.max(X) + 100\n",
        "min_x = np.min(X) - 100\n",
        "print(max_x,min_x)\n",
        "\n",
        "# Calculating line values x and y\n",
        "x = np.linspace(min_x, max_x, 1000)\n",
        "y = c + m * x\n",
        "\n",
        "# Ploting Line\n",
        "plt.plot(x, y, color='#00FF00', label='Regression Line')\n",
        "# Ploting Scatter Points\n",
        "plt.scatter(X, Y, c='#FF0000', label='Scatter Plot')\n",
        " \n",
        "plt.xlabel('SAT scores')\n",
        "plt.ylabel('GPA in college')\n",
        "plt.legend()\n",
        "plt.show()"
      ]
    },
    {
      "cell_type": "code",
      "execution_count": 12,
      "metadata": {
        "colab": {
          "base_uri": "https://localhost:8080/",
          "height": 244
        },
        "id": "VUp5xby6wzcr",
        "outputId": "c498fa81-1dc4-472c-f82d-24488f5c6a1a"
      },
      "outputs": [
        {
          "data": {
            "image/png": "[encoded data removed]",
            "text/plain": [
              "<Figure size 432x288 with 1 Axes>"
            ]
          },
          "metadata": {
            "needs_background": "light"
          },
          "output_type": "display_data"
        }
      ],
      "source": [
        "#plotting with test data\n",
        "max_x = np.max(X) + 100\n",
        "min_x = np.min(X) - 100\n",
        " \n",
        "# Calculating line values x and y\n",
        "x = np.linspace(min_x, max_x, 1000)\n",
        "y = c + m * x\n",
        " \n",
        "# Ploting Line\n",
        "plt.plot(x, y, color='#00FF00', label='Regression Line')\n",
        "# Ploting Scatter Points\n",
        "plt.scatter(X_test, Y_test, c='#FF0000', label='Scatter Plot')\n",
        " \n",
        "plt.xlabel('SAT scores')\n",
        "plt.ylabel('GPA in college')\n",
        "plt.legend()\n",
        "plt.show()"
      ]
    },
    {
      "cell_type": "code",
      "execution_count": null,
      "metadata": {
        "colab": {
          "base_uri": "https://localhost:8080/"
        },
        "id": "1Ecd8NgYky8q",
        "outputId": "694dad99-91e6-42cc-a823-0bd4ff23d1be"
      },
      "outputs": [
        {
          "name": "stdout",
          "output_type": "stream",
          "text": [
            "Sum of squares error on test data is:  3.261721577626546\n"
          ]
        }
      ],
      "source": [
        "#Calculating error\n",
        "\n",
        "error = 0\n",
        "n = len(X_test)\n",
        "for i in range(n):\n",
        "  pred = m * X_test[i] + c\n",
        "  y = Y_test[i]\n",
        "  error+= (pred - y)**2\n",
        "\n",
        "print(\"Sum of squares error on test data is: \", error)"
      ]
    },
    {
      "cell_type": "code",
      "execution_count": null,
      "metadata": {
        "id": "-LhzmSJW0sEk"
      },
      "outputs": [],
      "source": []
    }
  ],
  "metadata": {
    "colab": {
      "provenance": []
    },
    "kernelspec": {
      "display_name": "Python 3",
      "name": "python3"
    },
    "language_info": {
      "codemirror_mode": {
        "name": "ipython",
        "version": 3
      },
      "file_extension": ".py",
      "mimetype": "text/x-python",
      "name": "python",
      "nbconvert_exporter": "python",
      "pygments_lexer": "ipython3",
      "version": "3.9.12"
    }
  },
  "nbformat": 4,
  "nbformat_minor": 0
}
